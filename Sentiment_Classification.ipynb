{
 "cells": [
  {
   "cell_type": "code",
   "execution_count": 1,
   "id": "408d5ddb-ccef-4740-9a32-e7d0647a7aa4",
   "metadata": {},
   "outputs": [
    {
     "name": "stderr",
     "output_type": "stream",
     "text": [
      "[nltk_data] Downloading package stopwords to\n",
      "[nltk_data]     /Users/erinmcisaac/nltk_data...\n",
      "[nltk_data]   Package stopwords is already up-to-date!\n"
     ]
    },
    {
     "data": {
      "text/plain": [
       "True"
      ]
     },
     "execution_count": 1,
     "metadata": {},
     "output_type": "execute_result"
    }
   ],
   "source": [
    "import numpy as np\n",
    "import pandas as pd\n",
    "import os\n",
    "import re\n",
    "import pickle\n",
    "\n",
    "from sklearn.model_selection import train_test_split\n",
    "from sklearn.feature_extraction.text import TfidfVectorizer\n",
    "from sklearn.linear_model import LogisticRegression\n",
    "from sklearn.metrics import accuracy_score\n",
    "from nltk.corpus import stopwords\n",
    "from nltk.stem.porter import PorterStemmer\n",
    "import nltk\n",
    "\n",
    "nltk.download('stopwords')\n"
   ]
  },
  {
   "cell_type": "code",
   "execution_count": 2,
   "id": "cbb05790-276f-4d31-a861-43f8c01cb374",
   "metadata": {},
   "outputs": [],
   "source": [
    "# Assumes dataset has been extracted and available in this path\n",
    "base_path = '/Users/erinmcisaac/Desktop/STEM/COSC_A406/McIsaac_SentimentClassification/aclImdb'\n",
    "labels = {'pos': 1, 'neg': 0}\n",
    "data = []\n",
    "\n",
    "for label in labels:\n",
    "    folder = os.path.join(base_path, 'train', label)\n",
    "    for file in os.listdir(folder):\n",
    "        with open(os.path.join(folder, file), 'r', encoding='utf-8') as f:\n",
    "            data.append([f.read(), labels[label]])\n",
    "\n",
    "df = pd.DataFrame(data, columns=['review', 'sentiment'])\n",
    "df = df.sample(frac=1, random_state=42).reset_index(drop=True)\n",
    "df.to_csv('movie_data.csv', index=False)\n"
   ]
  },
  {
   "cell_type": "code",
   "execution_count": 3,
   "id": "f83a48ba-4333-4058-a88c-ba697989bfbe",
   "metadata": {},
   "outputs": [],
   "source": [
    "def preprocess_text(text):\n",
    "    text = re.sub('<[^>]*>', '', text)  # Remove HTML tags\n",
    "    text = re.sub(r'[^\\w\\s]', '', text.lower())  # Remove punctuation and lowercase\n",
    "    return text\n"
   ]
  },
  {
   "cell_type": "code",
   "execution_count": 4,
   "id": "ec8c0ab6-04d9-4037-a3c9-c60302520172",
   "metadata": {},
   "outputs": [],
   "source": [
    "porter = PorterStemmer()\n",
    "stop = stopwords.words('english')\n",
    "\n",
    "def tokenizer(text):\n",
    "    return [porter.stem(word) for word in text.split() if word not in stop]\n"
   ]
  },
  {
   "cell_type": "code",
   "execution_count": 5,
   "id": "56cd462d-c898-4cab-b065-168ec1325275",
   "metadata": {},
   "outputs": [
    {
     "name": "stderr",
     "output_type": "stream",
     "text": [
      "/Library/Frameworks/Python.framework/Versions/3.13/lib/python3.13/site-packages/sklearn/feature_extraction/text.py:517: UserWarning: The parameter 'token_pattern' will not be used since 'tokenizer' is not None'\n",
      "  warnings.warn(\n"
     ]
    },
    {
     "name": "stdout",
     "output_type": "stream",
     "text": [
      "Accuracy: 0.8950\n"
     ]
    }
   ],
   "source": [
    "df = pd.read_csv('movie_data.csv')\n",
    "X = df['review'].apply(preprocess_text)\n",
    "y = df['sentiment'].values\n",
    "\n",
    "tfidf = TfidfVectorizer(strip_accents=None,\n",
    "                        lowercase=False,\n",
    "                        preprocessor=None,\n",
    "                        tokenizer=tokenizer,\n",
    "                        ngram_range=(1,1),\n",
    "                        stop_words=None)\n",
    "\n",
    "X_tfidf = tfidf.fit_transform(X)\n",
    "\n",
    "X_train, X_test, y_train, y_test = train_test_split(\n",
    "    X_tfidf, y, test_size=0.2, random_state=1, stratify=y)\n",
    "\n",
    "clf = LogisticRegression(C=10.0, random_state=1, max_iter=1000)\n",
    "clf.fit(X_train, y_train)\n",
    "\n",
    "y_pred = clf.predict(X_test)\n",
    "print(f'Accuracy: {accuracy_score(y_test, y_pred):.4f}')\n"
   ]
  },
  {
   "cell_type": "code",
   "execution_count": 6,
   "id": "999e2fda-07b7-42ad-b0fc-a0ffe6dbc22e",
   "metadata": {},
   "outputs": [],
   "source": [
    "os.makedirs('pkl_objects', exist_ok=True)\n",
    "\n",
    "pickle.dump(clf, open(os.path.join('pkl_objects', 'classifier.pkl'), 'wb'))\n",
    "pickle.dump(tfidf, open(os.path.join('pkl_objects', 'tfidf.pkl'), 'wb'))\n",
    "pickle.dump(stop, open(os.path.join('pkl_objects', 'stopwords.pkl'), 'wb'))\n",
    "pickle.dump(porter, open(os.path.join('pkl_objects', 'porter.pkl'), 'wb'))\n"
   ]
  },
  {
   "cell_type": "code",
   "execution_count": 7,
   "id": "91dda5f5-a6a5-4ed1-ae2f-50fe01d5f3ad",
   "metadata": {},
   "outputs": [],
   "source": [
    "import re\n",
    "from nltk.corpus import stopwords\n",
    "from nltk.stem.porter import PorterStemmer\n",
    "\n",
    "stop = stopwords.words('english')\n",
    "porter = PorterStemmer()\n",
    "\n",
    "def preprocess_text(text):\n",
    "    text = re.sub('<[^>]*>', '', text)  # Remove HTML tags\n",
    "    text = re.sub(r'[^\\w\\s]', '', text.lower())  # Remove punctuation, lowercase\n",
    "    return text\n",
    "\n",
    "def tokenizer(text):\n",
    "    return [porter.stem(word) for word in text.split() if word not in stop]\n"
   ]
  },
  {
   "cell_type": "code",
   "execution_count": 8,
   "id": "85c96cd7-786a-453e-ab05-634f2a093265",
   "metadata": {},
   "outputs": [
    {
     "name": "stderr",
     "output_type": "stream",
     "text": [
      "/Library/Frameworks/Python.framework/Versions/3.13/lib/python3.13/site-packages/sklearn/feature_extraction/text.py:517: UserWarning: The parameter 'token_pattern' will not be used since 'tokenizer' is not None'\n",
      "  warnings.warn(\n"
     ]
    },
    {
     "name": "stdout",
     "output_type": "stream",
     "text": [
      "Accuracy: 0.8950\n"
     ]
    }
   ],
   "source": [
    "from sklearn.feature_extraction.text import TfidfVectorizer\n",
    "from sklearn.linear_model import LogisticRegression\n",
    "from sklearn.model_selection import train_test_split\n",
    "from sklearn.metrics import accuracy_score\n",
    "\n",
    "# Load data\n",
    "df = pd.read_csv('movie_data.csv')\n",
    "X = df['review'].apply(preprocess_text)\n",
    "y = df['sentiment'].values\n",
    "\n",
    "# Vectorize\n",
    "tfidf = TfidfVectorizer(strip_accents=None,\n",
    "                        lowercase=False,\n",
    "                        preprocessor=None,\n",
    "                        tokenizer=tokenizer,\n",
    "                        ngram_range=(1, 1),\n",
    "                        stop_words=None)\n",
    "\n",
    "X_tfidf = tfidf.fit_transform(X)\n",
    "\n",
    "# Split & Train\n",
    "X_train, X_test, y_train, y_test = train_test_split(\n",
    "    X_tfidf, y, test_size=0.2, random_state=1, stratify=y)\n",
    "\n",
    "clf = LogisticRegression(C=10.0, random_state=1, max_iter=1000)\n",
    "clf.fit(X_train, y_train)\n",
    "\n",
    "# Evaluate\n",
    "y_pred = clf.predict(X_test)\n",
    "print(f'Accuracy: {accuracy_score(y_test, y_pred):.4f}')\n"
   ]
  },
  {
   "cell_type": "code",
   "execution_count": 9,
   "id": "9c0904f0-a04c-4b51-b4bc-d11949b7a3a5",
   "metadata": {},
   "outputs": [],
   "source": [
    "import pickle\n",
    "import os\n",
    "\n",
    "os.makedirs('pkl_objects', exist_ok=True)\n",
    "\n",
    "pickle.dump(clf, open(os.path.join('pkl_objects', 'classifier.pkl'), 'wb'))\n",
    "pickle.dump(tfidf, open(os.path.join('pkl_objects', 'tfidf.pkl'), 'wb'))\n",
    "pickle.dump(stop, open(os.path.join('pkl_objects', 'stopwords.pkl'), 'wb'))\n",
    "pickle.dump(porter, open(os.path.join('pkl_objects', 'porter.pkl'), 'wb'))\n"
   ]
  }
 ],
 "metadata": {
  "kernelspec": {
   "display_name": "Python 3 (ipykernel)",
   "language": "python",
   "name": "python3"
  },
  "language_info": {
   "codemirror_mode": {
    "name": "ipython",
    "version": 3
   },
   "file_extension": ".py",
   "mimetype": "text/x-python",
   "name": "python",
   "nbconvert_exporter": "python",
   "pygments_lexer": "ipython3",
   "version": "3.13.0"
  }
 },
 "nbformat": 4,
 "nbformat_minor": 5
}
